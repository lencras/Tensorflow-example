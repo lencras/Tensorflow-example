{
 "cells": [
  {
   "cell_type": "code",
   "execution_count": 1,
   "metadata": {},
   "outputs": [
    {
     "data": {
      "text/plain": [
       "<Figure size 640x480 with 1 Axes>"
      ]
     },
     "metadata": {},
     "output_type": "display_data"
    }
   ],
   "source": [
    "import numpy as np\n",
    "import matplotlib.pyplot as plt\n",
    "import os\n",
    "import cv2\n",
    "from tqdm import tqdm\n",
    "\n",
    "DATADIR = r\"C:\\Pictures\\Dataset\\TrainingSet\" # Path to training dataset\n",
    "\n",
    "CATEGORIES = [\"RGB images score 1\", \"RGB images score 2\", \"RGB images score 3\"]\n",
    "\n",
    "for category in CATEGORIES:  # Score 1 to Score 3\n",
    "    path = os.path.join(DATADIR,category)  # create path to images\n",
    "    for img in os.listdir(path):  # iterate over each image\n",
    "        img_array = cv2.imread(os.path.join(path,img) ,cv2.IMREAD_COLOR)  # convert to array\n",
    "        RGB_img_array = cv2.cvtColor(img_array, cv2.COLOR_BGR2RGB)\n",
    "        plt.imshow(RGB_img_array)  # graph it\n",
    "        plt.show()  # display\n",
    "\n",
    "        break  \n",
    "    break "
   ]
  },
  {
   "cell_type": "code",
   "execution_count": 2,
   "metadata": {},
   "outputs": [
    {
     "data": {
      "image/png": "[encoded data removed]",
      "text/plain": [
       "<Figure size 432x288 with 1 Axes>"
      ]
     },
     "metadata": {
      "needs_background": "light"
     },
     "output_type": "display_data"
    }
   ],
   "source": [
    "IMG_SIZE = 200 # define image size\n",
    "\n",
    "new_array = cv2.resize(RGB_img_array, (IMG_SIZE, IMG_SIZE))\n",
    "plt.imshow(new_array)\n",
    "plt.show()"
   ]
  },
  {
   "cell_type": "code",
   "execution_count": 3,
   "metadata": {},
   "outputs": [
    {
     "name": "stderr",
     "output_type": "stream",
     "text": [
      "100%|██████████| 3237/3237 [00:29<00:00, 111.59it/s]\n",
      "100%|██████████| 3417/3417 [00:28<00:00, 119.49it/s]\n",
      "100%|██████████| 2787/2787 [00:24<00:00, 115.93it/s]\n"
     ]
    },
    {
     "name": "stdout",
     "output_type": "stream",
     "text": [
      "9441\n"
     ]
    }
   ],
   "source": [
    "training_data = []\n",
    "\n",
    "def create_training_data():\n",
    "    for category in CATEGORIES:  # do Score 1 to Score 3\n",
    "\n",
    "        path = os.path.join(DATADIR,category)  # create path to images\n",
    "        class_num = CATEGORIES.index(category)  # get the classification (0/1/2). 0=Score 1, 1=Score 2, 2=Score 3\n",
    "\n",
    "        for img in tqdm(os.listdir(path)):  # iterate over each image \n",
    "            try:\n",
    "                img_array = cv2.imread(os.path.join(path,img) ,cv2.IMREAD_COLOR)  # convert to array\n",
    "                new_array = cv2.resize(img_array, (IMG_SIZE, IMG_SIZE))  # resize to chosen data size\n",
    "                training_data.append([new_array, class_num])  # add to training_data\n",
    "            except Exception as e:  \n",
    "                pass\n",
    "            #except OSError as e:\n",
    "            #    print(\"Corrupted images\", e, os.path.join(path,img))\n",
    "            #except Exception as e:\n",
    "            #    print(\"general exception\", e, os.path.join(path,img))\n",
    "\n",
    "create_training_data()\n",
    "\n",
    "print(len(training_data))"
   ]
  },
  {
   "cell_type": "code",
   "execution_count": 4,
   "metadata": {},
   "outputs": [],
   "source": [
    "import random\n",
    "import pickle\n",
    "\n",
    "random.shuffle(training_data)\n",
    "\n",
    "X = []\n",
    "y = []\n",
    "\n",
    "for features,label in training_data:\n",
    "    X.append(features)\n",
    "    y.append(label)\n",
    "\n",
    "X = np.array(X).reshape(-1, IMG_SIZE, IMG_SIZE, 3)\n",
    "\n",
    "\n",
    "pickle_out = open(\"X_example.pickle\",\"wb\")\n",
    "pickle.dump(X, pickle_out)\n",
    "pickle_out.close()\n",
    "\n",
    "pickle_out = open(\"y_example.pickle\",\"wb\")\n",
    "pickle.dump(y, pickle_out)\n",
    "pickle_out.close()"
   ]
  },
  {
   "cell_type": "markdown",
   "metadata": {},
   "source": []
  },
  {
   "cell_type": "code",
   "execution_count": 1,
   "metadata": {},
   "outputs": [
    {
     "name": "stderr",
     "output_type": "stream",
     "text": [
      "WARNING: Logging before flag parsing goes to stderr.\n",
      "W0122 19:28:13.150898 15232 deprecation.py:506] From C:\\Users\\admin\\Anaconda3\\envs\\gputest\\lib\\site-packages\\tensorflow\\python\\ops\\init_ops.py:1251: calling VarianceScaling.__init__ (from tensorflow.python.ops.init_ops) with dtype is deprecated and will be removed in a future version.\n",
      "Instructions for updating:\n",
      "Call initializer instance with the dtype argument instead of passing it to the constructor\n"
     ]
    },
    {
     "name": "stdout",
     "output_type": "stream",
     "text": [
      "4-conv-32-nodes-1-dense-1579692493\n",
      "Model: \"sequential\"\n",
      "_________________________________________________________________\n",
      "Layer (type)                 Output Shape              Param #   \n",
      "=================================================================\n",
      "conv2d (Conv2D)              (None, 196, 196, 32)      2432      \n",
      "_________________________________________________________________\n",
      "max_pooling2d (MaxPooling2D) (None, 98, 98, 32)        0         \n",
      "_________________________________________________________________\n",
      "conv2d_1 (Conv2D)            (None, 94, 94, 32)        25632     \n",
      "_________________________________________________________________\n",
      "max_pooling2d_1 (MaxPooling2 (None, 47, 47, 32)        0         \n",
      "_________________________________________________________________\n",
      "conv2d_2 (Conv2D)            (None, 43, 43, 32)        25632     \n",
      "_________________________________________________________________\n",
      "max_pooling2d_2 (MaxPooling2 (None, 21, 21, 32)        0         \n",
      "_________________________________________________________________\n",
      "conv2d_3 (Conv2D)            (None, 17, 17, 32)        25632     \n",
      "_________________________________________________________________\n",
      "max_pooling2d_3 (MaxPooling2 (None, 8, 8, 32)          0         \n",
      "_________________________________________________________________\n",
      "flatten (Flatten)            (None, 2048)              0         \n",
      "_________________________________________________________________\n",
      "dense (Dense)                (None, 10)                20490     \n",
      "_________________________________________________________________\n",
      "dropout (Dropout)            (None, 10)                0         \n",
      "_________________________________________________________________\n",
      "dense_1 (Dense)              (None, 3)                 33        \n",
      "=================================================================\n",
      "Total params: 99,851\n",
      "Trainable params: 99,851\n",
      "Non-trainable params: 0\n",
      "_________________________________________________________________\n",
      "None\n",
      "Train on 8496 samples, validate on 945 samples\n",
      "Epoch 1/20\n",
      "8496/8496 [==============================] - 19s 2ms/sample - loss: 0.5680 - acc: 0.6908 - val_loss: 0.3858 - val_acc: 0.8561\n",
      "Epoch 2/20\n",
      "8496/8496 [==============================] - 18s 2ms/sample - loss: 0.2938 - acc: 0.8543 - val_loss: 0.2028 - val_acc: 0.9058\n",
      "Epoch 3/20\n",
      "8496/8496 [==============================] - 18s 2ms/sample - loss: 0.2402 - acc: 0.8779 - val_loss: 0.1611 - val_acc: 0.9238\n",
      "Epoch 4/20\n",
      "8496/8496 [==============================] - 19s 2ms/sample - loss: 0.2051 - acc: 0.8978 - val_loss: 0.1537 - val_acc: 0.9354\n",
      "Epoch 5/20\n",
      "8496/8496 [==============================] - 18s 2ms/sample - loss: 0.2001 - acc: 0.9093 - val_loss: 0.1385 - val_acc: 0.9344\n",
      "Epoch 6/20\n",
      "8496/8496 [==============================] - 18s 2ms/sample - loss: 0.1811 - acc: 0.9193 - val_loss: 0.1478 - val_acc: 0.9291\n",
      "Epoch 7/20\n",
      "8496/8496 [==============================] - 18s 2ms/sample - loss: 0.1533 - acc: 0.9315 - val_loss: 0.0951 - val_acc: 0.9608\n",
      "Epoch 8/20\n",
      "8496/8496 [==============================] - 18s 2ms/sample - loss: 0.1336 - acc: 0.9463 - val_loss: 0.1127 - val_acc: 0.9534\n",
      "Epoch 9/20\n",
      "8496/8496 [==============================] - 18s 2ms/sample - loss: 0.1164 - acc: 0.9543 - val_loss: 0.0885 - val_acc: 0.9598\n",
      "Epoch 10/20\n",
      "8496/8496 [==============================] - 18s 2ms/sample - loss: 0.1076 - acc: 0.9605 - val_loss: 0.0771 - val_acc: 0.9683\n",
      "Epoch 11/20\n",
      "8496/8496 [==============================] - 19s 2ms/sample - loss: 0.0959 - acc: 0.9620 - val_loss: 0.0798 - val_acc: 0.9651\n",
      "Epoch 12/20\n",
      "8496/8496 [==============================] - 19s 2ms/sample - loss: 0.0791 - acc: 0.9679 - val_loss: 0.0978 - val_acc: 0.9630\n",
      "Epoch 13/20\n",
      "8496/8496 [==============================] - 19s 2ms/sample - loss: 0.0761 - acc: 0.9725 - val_loss: 0.0853 - val_acc: 0.9587\n",
      "Epoch 14/20\n",
      "8496/8496 [==============================] - 19s 2ms/sample - loss: 0.0733 - acc: 0.9712 - val_loss: 0.0694 - val_acc: 0.9725\n",
      "Epoch 15/20\n",
      "8496/8496 [==============================] - 19s 2ms/sample - loss: 0.0598 - acc: 0.9770 - val_loss: 0.0922 - val_acc: 0.9651\n",
      "Epoch 16/20\n",
      "8496/8496 [==============================] - 19s 2ms/sample - loss: 0.0566 - acc: 0.9796 - val_loss: 0.0873 - val_acc: 0.9672\n",
      "Epoch 17/20\n",
      "8496/8496 [==============================] - 18s 2ms/sample - loss: 0.0613 - acc: 0.9763 - val_loss: 0.0640 - val_acc: 0.9714\n",
      "Epoch 18/20\n",
      "8496/8496 [==============================] - 19s 2ms/sample - loss: 0.0454 - acc: 0.9821 - val_loss: 0.0775 - val_acc: 0.9683\n",
      "Epoch 19/20\n",
      "8496/8496 [==============================] - 18s 2ms/sample - loss: 0.0589 - acc: 0.9786 - val_loss: 0.0895 - val_acc: 0.9651\n",
      "Epoch 20/20\n",
      "8496/8496 [==============================] - 19s 2ms/sample - loss: 0.0450 - acc: 0.9845 - val_loss: 0.1079 - val_acc: 0.9577\n",
      "Run the command line on anaconda prompt:\n",
      "--> tensorboard --logdir=/tmp/logs/ --host localhost --port 8088 \n",
      "Then open http://localhost:8088/ into your web browser\n"
     ]
    }
   ],
   "source": [
    "import tensorflow as tf\n",
    "from tensorflow.keras.models import Sequential\n",
    "from tensorflow.keras.layers import Dense, Dropout, Activation, Flatten\n",
    "from tensorflow.keras.layers import Conv2D, MaxPooling2D\n",
    "from tensorflow.keras.callbacks import TensorBoard, EarlyStopping\n",
    "from datetime import datetime\n",
    "import time\n",
    "import pickle\n",
    "\n",
    "\n",
    "pickle_in = open(\"X_example.pickle\",\"rb\")\n",
    "X = pickle.load(pickle_in)\n",
    "\n",
    "pickle_in = open(\"y_example.pickle\",\"rb\")\n",
    "y = pickle.load(pickle_in)\n",
    "\n",
    "X = X *1.0/100 - 1.0 \n",
    "\n",
    "dense_layers = [1]\n",
    "layer_sizes = [32]\n",
    "conv_layers = [4]\n",
    "\n",
    "for dense_layer in dense_layers:\n",
    "    for layer_size in layer_sizes:\n",
    "        for conv_layer in conv_layers:\n",
    "            NAME = \"{}-conv-{}-nodes-{}-dense-{}\".format(conv_layer, layer_size, dense_layer, int(time.time()))\n",
    "            print(NAME)\n",
    "\n",
    "            model = Sequential()\n",
    "            \n",
    "            model.add(Conv2D(layer_size, kernel_size=(5, 5), strides=(1, 1),activation='relu',input_shape=X.shape[1:]))\n",
    "            model.add(MaxPooling2D(pool_size=(2, 2), strides=(2, 2)))\n",
    "            \n",
    "            for a in range(conv_layer-1):\n",
    "                model.add(Conv2D(layer_size,(5, 5), activation='relu'))\n",
    "                model.add(MaxPooling2D(pool_size=(2, 2)))\n",
    "            \n",
    "            model.add(Flatten())\n",
    "            \n",
    "            for b in range(dense_layer):\n",
    "                model.add(Dense(10, activation='relu'))\n",
    "                model.add(Dropout(0.1))\n",
    "            \n",
    "            \n",
    "            model.add(Dense(3, activation='softmax'))\n",
    "            \n",
    "            tensorboard = TensorBoard(log_dir=\"C:\\\\tmp\\\\logs\\\\example\\\\{}\".format(NAME))\n",
    "            #earlystopping = tf.keras.callbacks.EarlyStopping(monitor='val_loss', mode='min', patience=2)\n",
    "            #adam = tf.keras.optimizers.Adam(lr=0.01)\n",
    "            \n",
    "            model.compile(loss='sparse_categorical_crossentropy',optimizer='adam',metrics=['accuracy'])\n",
    "            \n",
    "            print(model.summary())\n",
    "            \n",
    "            model.fit(X, y, batch_size=10, epochs=20, validation_split=0.1, verbose=1, callbacks=[tensorboard])\n",
    "            \n",
    "model.save('example.model')\n",
    "            \n",
    "print(\"Run the command line on anaconda prompt:\\n\" \\\n",
    "          \"--> tensorboard --logdir=/tmp/logs/ --host localhost --port 8088 \" \\\n",
    "          \"\\nThen open http://localhost:8088/ into your web browser\")"
   ]
  },
  {
   "cell_type": "code",
   "execution_count": 1,
   "metadata": {},
   "outputs": [
    {
     "name": "stderr",
     "output_type": "stream",
     "text": [
      "WARNING: Logging before flag parsing goes to stderr.\n",
      "W1028 21:02:17.449982  3148 deprecation.py:506] From C:\\Users\\admin\\Anaconda3\\envs\\gputest\\lib\\site-packages\\tensorflow\\python\\ops\\init_ops.py:97: calling GlorotUniform.__init__ (from tensorflow.python.ops.init_ops) with dtype is deprecated and will be removed in a future version.\n",
      "Instructions for updating:\n",
      "Call initializer instance with the dtype argument instead of passing it to the constructor\n",
      "W1028 21:02:17.451976  3148 deprecation.py:506] From C:\\Users\\admin\\Anaconda3\\envs\\gputest\\lib\\site-packages\\tensorflow\\python\\ops\\init_ops.py:1251: calling VarianceScaling.__init__ (from tensorflow.python.ops.init_ops) with dtype is deprecated and will be removed in a future version.\n",
      "Instructions for updating:\n",
      "Call initializer instance with the dtype argument instead of passing it to the constructor\n",
      "W1028 21:02:17.452974  3148 deprecation.py:506] From C:\\Users\\admin\\Anaconda3\\envs\\gputest\\lib\\site-packages\\tensorflow\\python\\ops\\init_ops.py:97: calling Zeros.__init__ (from tensorflow.python.ops.init_ops) with dtype is deprecated and will be removed in a future version.\n",
      "Instructions for updating:\n",
      "Call initializer instance with the dtype argument instead of passing it to the constructor\n"
     ]
    }
   ],
   "source": [
    "import cv2\n",
    "import tensorflow as tf\n",
    "import numpy as np\n",
    "import os\n",
    "\n",
    "path = r\"C:\\Pictures\\Dataset\\PredictionSet\" # Path to prediction set\n",
    "CATEGORIES = [\"RGB images score 1\", \"RGB images score 2\", \"RGB images score 3\"]\n",
    "\n",
    "def prepare(filepath):\n",
    "    IMG_SIZE = 200  \n",
    "    img_array = cv2.imread(filepath, cv2.IMREAD_COLOR)\n",
    "    RGB_img_array = cv2.cvtColor(img_array, cv2.COLOR_BGR2RGB)\n",
    "    new_array = cv2.resize(RGB_img_array, (IMG_SIZE, IMG_SIZE))\n",
    "    final_array = new_array.reshape(-1, IMG_SIZE, IMG_SIZE, 3)\n",
    "    return final_array *1.0/100 - 1.0 \n",
    "   \n",
    "    \n",
    "model = tf.keras.models.load_model(\"example.model\")\n",
    "\n",
    "for filename in os.listdir(path):\n",
    "    prediction = model.predict([prepare(os.path.join(path,filename))])\n",
    "    \n",
    "    print(filename)\n",
    "\n",
    "    print(prediction[0])\n",
    "\n",
    "    print(CATEGORIES[int(np.argmax(prediction[0]))])\n",
    "\n",
    "    print(\"\\n\")"
   ]
  },
  {
   "cell_type": "code",
   "execution_count": null,
   "metadata": {},
   "outputs": [],
   "source": []
  }
 ],
 "metadata": {
  "kernelspec": {
   "display_name": "gputest",
   "language": "python",
   "name": "gputest"
  },
  "language_info": {
   "codemirror_mode": {
    "name": "ipython",
    "version": 3
   },
   "file_extension": ".py",
   "mimetype": "text/x-python",
   "name": "python",
   "nbconvert_exporter": "python",
   "pygments_lexer": "ipython3",
   "version": "3.7.4"
  }
 },
 "nbformat": 4,
 "nbformat_minor": 4
}
